{
 "cells": [
  {
   "cell_type": "markdown",
   "metadata": {
    "application/vnd.databricks.v1+cell": {
     "cellMetadata": {
      "byteLimit": 2048000,
      "rowLimit": 10000
     },
     "inputWidgets": {},
     "nuid": "8c1960eb-700d-46ed-8464-8faf9c13f9b7",
     "showTitle": false,
     "title": ""
    }
   },
   "source": [
    "The below python script is used to load SS output csv files from GCS to ZDL\n",
    "\n",
    "Here we first store all excel file into cloud storage bucket and we read this file from that bucket and store it into pandas dataframe \n",
    "\n",
    "Once data is loaded into pandas dataframe we then load data into output table \n"
   ]
  },
  {
   "cell_type": "code",
   "execution_count": 0,
   "metadata": {
    "application/vnd.databricks.v1+cell": {
     "cellMetadata": {
      "byteLimit": 2048000,
      "rowLimit": 10000
     },
     "inputWidgets": {},
     "nuid": "0184b8ce-0ca0-4dc6-8179-9889000a8320",
     "showTitle": false,
     "title": ""
    }
   },
   "outputs": [
    {
     "output_type": "display_data",
     "data": {
      "text/html": [
       "<style scoped>\n",
       "  .ansiout {\n",
       "    display: block;\n",
       "    unicode-bidi: embed;\n",
       "    white-space: pre-wrap;\n",
       "    word-wrap: break-word;\n",
       "    word-break: break-all;\n",
       "    font-family: \"Menlo\", \"Monaco\", \"Consolas\", \"Ubuntu Mono\", \"Source Code Pro\", monospace;\n",
       "    font-size: 13px;\n",
       "    color: #555;\n",
       "    margin-left: 4px;\n",
       "    line-height: 19px;\n",
       "  }\n",
       "</style>\n",
       "<div class=\"ansiout\"></div>"
      ]
     },
     "metadata": {
      "application/vnd.databricks.v1+output": {
       "addedWidgets": {},
       "arguments": {},
       "data": "<div class=\"ansiout\"></div>",
       "datasetInfos": [],
       "metadata": {},
       "removedWidgets": [],
       "type": "html"
      }
     },
     "output_type": "display_data"
    }
   ],
   "source": [
    "import pandas as pd\n",
    "from google.cloud import storage\n",
    "import numpy as np\n",
    "import pyspark.pandas as ps\n",
    "from pyspark.sql.functions import expr"
   ]
  },
  {
   "cell_type": "code",
   "execution_count": 0,
   "metadata": {
    "application/vnd.databricks.v1+cell": {
     "cellMetadata": {
      "byteLimit": 2048000,
      "rowLimit": 10000
     },
     "inputWidgets": {},
     "nuid": "72ae32ec-9f41-4ee8-8b6e-b1beb8cad5a3",
     "showTitle": false,
     "title": ""
    }
   },
   "outputs": [
    {
     "output_type": "display_data",
     "data": {
      "text/html": [
       "<style scoped>\n",
       "  .ansiout {\n",
       "    display: block;\n",
       "    unicode-bidi: embed;\n",
       "    white-space: pre-wrap;\n",
       "    word-wrap: break-word;\n",
       "    word-break: break-all;\n",
       "    font-family: \"Menlo\", \"Monaco\", \"Consolas\", \"Ubuntu Mono\", \"Source Code Pro\", monospace;\n",
       "    font-size: 13px;\n",
       "    color: #555;\n",
       "    margin-left: 4px;\n",
       "    line-height: 19px;\n",
       "  }\n",
       "</style>\n",
       "<div class=\"ansiout\"></div>"
      ]
     },
     "metadata": {
      "application/vnd.databricks.v1+output": {
       "addedWidgets": {},
       "arguments": {},
       "data": "<div class=\"ansiout\"></div>",
       "datasetInfos": [],
       "metadata": {},
       "removedWidgets": [],
       "type": "html"
      }
     },
     "output_type": "display_data"
    }
   ],
   "source": [
    "bucket_name = \"its-managed-dbx-ds-01-d-user-work-area\" #bucket name this remains constant\n",
    "folder_name = \"ss/ss_outputs\" #pass the folder name from where we want to read the files - "
   ]
  },
  {
   "cell_type": "markdown",
   "metadata": {
    "application/vnd.databricks.v1+cell": {
     "cellMetadata": {
      "byteLimit": 2048000,
      "rowLimit": 10000
     },
     "inputWidgets": {},
     "nuid": "3eac4058-f0eb-413a-bce0-03412fed42e9",
     "showTitle": false,
     "title": ""
    }
   },
   "source": [
    "list_blobs is used to get all the list of files present in the folder_name"
   ]
  },
  {
   "cell_type": "code",
   "execution_count": 0,
   "metadata": {
    "application/vnd.databricks.v1+cell": {
     "cellMetadata": {
      "byteLimit": 2048000,
      "rowLimit": 10000
     },
     "inputWidgets": {},
     "nuid": "c6b7a269-47a3-4620-9703-822f6570df90",
     "showTitle": false,
     "title": ""
    }
   },
   "outputs": [
    {
     "output_type": "display_data",
     "data": {
      "text/html": [
       "<style scoped>\n",
       "  .ansiout {\n",
       "    display: block;\n",
       "    unicode-bidi: embed;\n",
       "    white-space: pre-wrap;\n",
       "    word-wrap: break-word;\n",
       "    word-break: break-all;\n",
       "    font-family: \"Menlo\", \"Monaco\", \"Consolas\", \"Ubuntu Mono\", \"Source Code Pro\", monospace;\n",
       "    font-size: 13px;\n",
       "    color: #555;\n",
       "    margin-left: 4px;\n",
       "    line-height: 19px;\n",
       "  }\n",
       "</style>\n",
       "<div class=\"ansiout\"></div>"
      ]
     },
     "metadata": {
      "application/vnd.databricks.v1+output": {
       "addedWidgets": {},
       "arguments": {},
       "data": "<div class=\"ansiout\"></div>",
       "datasetInfos": [],
       "metadata": {},
       "removedWidgets": [],
       "type": "html"
      }
     },
     "output_type": "display_data"
    }
   ],
   "source": [
    "client = storage.Client()\n",
    "BUCKET = client.get_bucket(bucket_name)\n",
    "blobs = BUCKET.list_blobs(prefix=folder_name)\n",
    "blobs_list = list(blobs)\n",
    "# del blobs_list[0]\n",
    "del blobs_list[0]"
   ]
  },
  {
   "cell_type": "code",
   "execution_count": 0,
   "metadata": {
    "application/vnd.databricks.v1+cell": {
     "cellMetadata": {
      "byteLimit": 2048000,
      "rowLimit": 10000
     },
     "inputWidgets": {},
     "nuid": "82cdd33d-0c45-42d9-ba0e-2ec309754e05",
     "showTitle": false,
     "title": ""
    }
   },
   "outputs": [
    {
     "output_type": "display_data",
     "data": {
      "text/html": [
       "<style scoped>\n",
       "  .ansiout {\n",
       "    display: block;\n",
       "    unicode-bidi: embed;\n",
       "    white-space: pre-wrap;\n",
       "    word-wrap: break-word;\n",
       "    word-break: break-all;\n",
       "    font-family: \"Menlo\", \"Monaco\", \"Consolas\", \"Ubuntu Mono\", \"Source Code Pro\", monospace;\n",
       "    font-size: 13px;\n",
       "    color: #555;\n",
       "    margin-left: 4px;\n",
       "    line-height: 19px;\n",
       "  }\n",
       "</style>\n",
       "<div class=\"ansiout\">ss/ss_outputs/safety_stock_determination_outputs_aava_07_02_2024_11_18_04_v1.csv\n",
       "ss/ss_outputs/safety_stock_determination_outputs_askey_07_02_2024_11_34_27_v1.csv\n",
       "ss/ss_outputs/safety_stock_determination_outputs_best_ever_07_02_2024_11_01_23_v1.csv\n",
       "ss/ss_outputs/safety_stock_determination_outputs_holitech_07_02_2024_11_01_00_v1.csv\n",
       "ss/ss_outputs/safety_stock_determination_outputs_inventus_07_02_2024_11_34_39_v1.csv\n",
       "ss/ss_outputs/safety_stock_determination_outputs_jabil_hcm_07_02_2024_11_31_12_v1.csv\n",
       "ss/ss_outputs/safety_stock_determination_outputs_jabil_hua_07_02_2024_11_17_30_v1.csv\n",
       "ss/ss_outputs/safety_stock_determination_outputs_pegatron_07_02_2024_11_32_25_v1.csv\n",
       "ss/ss_outputs/safety_stock_determination_outputs_sanhua_07_02_2024_11_34_55_v1.csv\n",
       "ss/ss_outputs/safety_stock_determination_outputs_sanmina_07_02_2024_11_23_34_v1.csv\n",
       "ss/ss_outputs/safety_stock_determination_outputs_sh2_07_02_2024_10_52_10_v1.csv\n",
       "ss/ss_outputs/safety_stock_determination_outputs_t2m_07_02_2024_11_00_38_v1.csv\n",
       "ss/ss_outputs/safety_stock_determination_outputs_tianma_07_02_2024_11_35_06_v1.csv\n",
       "ss/ss_outputs/safety_stock_determination_outputs_tws_07_02_2024_11_02_03_v1.csv\n",
       "ss/ss_outputs/safety_stock_determination_outputs_usi_07_02_2024_10_59_50_v1.csv\n",
       "ss/ss_outputs/safety_stock_determination_outputs_usi_tw_07_02_2024_11_26_31_v1.csv\n",
       "ss/ss_outputs/safety_stock_determination_outputs_usi_vn_07_02_2024_10_51_47_v1.csv\n",
       "ss/ss_outputs/safety_stock_determination_outputs_vtech_my_07_02_2024_11_23_48_v1.csv\n",
       "ss/ss_outputs/safety_stock_determination_outputs_wistron_07_02_2024_11_20_58_v1.csv\n",
       "ss/ss_outputs/safety_stock_determination_outputs_wistron_my_07_02_2024_11_28_54_v1.csv\n",
       "</div>"
      ]
     },
     "metadata": {
      "application/vnd.databricks.v1+output": {
       "addedWidgets": {},
       "arguments": {},
       "data": "<div class=\"ansiout\">ss/ss_outputs/safety_stock_determination_outputs_aava_07_02_2024_11_18_04_v1.csv\nss/ss_outputs/safety_stock_determination_outputs_askey_07_02_2024_11_34_27_v1.csv\nss/ss_outputs/safety_stock_determination_outputs_best_ever_07_02_2024_11_01_23_v1.csv\nss/ss_outputs/safety_stock_determination_outputs_holitech_07_02_2024_11_01_00_v1.csv\nss/ss_outputs/safety_stock_determination_outputs_inventus_07_02_2024_11_34_39_v1.csv\nss/ss_outputs/safety_stock_determination_outputs_jabil_hcm_07_02_2024_11_31_12_v1.csv\nss/ss_outputs/safety_stock_determination_outputs_jabil_hua_07_02_2024_11_17_30_v1.csv\nss/ss_outputs/safety_stock_determination_outputs_pegatron_07_02_2024_11_32_25_v1.csv\nss/ss_outputs/safety_stock_determination_outputs_sanhua_07_02_2024_11_34_55_v1.csv\nss/ss_outputs/safety_stock_determination_outputs_sanmina_07_02_2024_11_23_34_v1.csv\nss/ss_outputs/safety_stock_determination_outputs_sh2_07_02_2024_10_52_10_v1.csv\nss/ss_outputs/safety_stock_determination_outputs_t2m_07_02_2024_11_00_38_v1.csv\nss/ss_outputs/safety_stock_determination_outputs_tianma_07_02_2024_11_35_06_v1.csv\nss/ss_outputs/safety_stock_determination_outputs_tws_07_02_2024_11_02_03_v1.csv\nss/ss_outputs/safety_stock_determination_outputs_usi_07_02_2024_10_59_50_v1.csv\nss/ss_outputs/safety_stock_determination_outputs_usi_tw_07_02_2024_11_26_31_v1.csv\nss/ss_outputs/safety_stock_determination_outputs_usi_vn_07_02_2024_10_51_47_v1.csv\nss/ss_outputs/safety_stock_determination_outputs_vtech_my_07_02_2024_11_23_48_v1.csv\nss/ss_outputs/safety_stock_determination_outputs_wistron_07_02_2024_11_20_58_v1.csv\nss/ss_outputs/safety_stock_determination_outputs_wistron_my_07_02_2024_11_28_54_v1.csv\n</div>",
       "datasetInfos": [],
       "metadata": {},
       "removedWidgets": [],
       "type": "html"
      }
     },
     "output_type": "display_data"
    }
   ],
   "source": [
    "for b in blobs_list:\n",
    "    print(b.name)"
   ]
  },
  {
   "cell_type": "code",
   "execution_count": 0,
   "metadata": {
    "application/vnd.databricks.v1+cell": {
     "cellMetadata": {
      "byteLimit": 2048000,
      "rowLimit": 10000
     },
     "inputWidgets": {},
     "nuid": "a08d7d81-3bc7-46d3-8f73-7c46bb91f32f",
     "showTitle": false,
     "title": ""
    }
   },
   "outputs": [
    {
     "output_type": "display_data",
     "data": {
      "text/html": [
       "<style scoped>\n",
       "  .ansiout {\n",
       "    display: block;\n",
       "    unicode-bidi: embed;\n",
       "    white-space: pre-wrap;\n",
       "    word-wrap: break-word;\n",
       "    word-break: break-all;\n",
       "    font-family: \"Menlo\", \"Monaco\", \"Consolas\", \"Ubuntu Mono\", \"Source Code Pro\", monospace;\n",
       "    font-size: 13px;\n",
       "    color: #555;\n",
       "    margin-left: 4px;\n",
       "    line-height: 19px;\n",
       "  }\n",
       "</style>\n",
       "<div class=\"ansiout\">Out[28]: 20</div>"
      ]
     },
     "metadata": {
      "application/vnd.databricks.v1+output": {
       "addedWidgets": {},
       "arguments": {},
       "data": "<div class=\"ansiout\">Out[28]: 20</div>",
       "datasetInfos": [],
       "metadata": {},
       "removedWidgets": [],
       "type": "html"
      }
     },
     "output_type": "display_data"
    }
   ],
   "source": [
    "len(blobs_list)"
   ]
  },
  {
   "cell_type": "markdown",
   "metadata": {
    "application/vnd.databricks.v1+cell": {
     "cellMetadata": {
      "byteLimit": 2048000,
      "rowLimit": 10000
     },
     "inputWidgets": {},
     "nuid": "7d2f173e-42c0-4040-83df-8beb7ecfa592",
     "showTitle": false,
     "title": ""
    }
   },
   "source": [
    "Here we have two dataframe df(dataframe) and log_entry_df \n",
    "\n",
    "df will hold data of all the files\n",
    "\n",
    "log_entry_df will hold data of each and every file that we read"
   ]
  },
  {
   "cell_type": "code",
   "execution_count": 0,
   "metadata": {
    "application/vnd.databricks.v1+cell": {
     "cellMetadata": {
      "byteLimit": 2048000,
      "rowLimit": 10000
     },
     "inputWidgets": {},
     "nuid": "892204c5-dc3d-46d6-8160-ae726330d156",
     "showTitle": false,
     "title": ""
    }
   },
   "outputs": [
    {
     "output_type": "display_data",
     "data": {
      "text/html": [
       "<style scoped>\n",
       "  .ansiout {\n",
       "    display: block;\n",
       "    unicode-bidi: embed;\n",
       "    white-space: pre-wrap;\n",
       "    word-wrap: break-word;\n",
       "    word-break: break-all;\n",
       "    font-family: \"Menlo\", \"Monaco\", \"Consolas\", \"Ubuntu Mono\", \"Source Code Pro\", monospace;\n",
       "    font-size: 13px;\n",
       "    color: #555;\n",
       "    margin-left: 4px;\n",
       "    line-height: 19px;\n",
       "  }\n",
       "</style>\n",
       "<div class=\"ansiout\">Successfully inserted gs://its-managed-dbx-ds-01-d-user-work-area/ss/ss_outputs/safety_stock_determination_outputs_aava_07_02_2024_11_18_04_v1.csv\n",
       "Successfully inserted gs://its-managed-dbx-ds-01-d-user-work-area/ss/ss_outputs/safety_stock_determination_outputs_askey_07_02_2024_11_34_27_v1.csv\n",
       "Successfully inserted gs://its-managed-dbx-ds-01-d-user-work-area/ss/ss_outputs/safety_stock_determination_outputs_best_ever_07_02_2024_11_01_23_v1.csv\n",
       "Successfully inserted gs://its-managed-dbx-ds-01-d-user-work-area/ss/ss_outputs/safety_stock_determination_outputs_holitech_07_02_2024_11_01_00_v1.csv\n",
       "Successfully inserted gs://its-managed-dbx-ds-01-d-user-work-area/ss/ss_outputs/safety_stock_determination_outputs_inventus_07_02_2024_11_34_39_v1.csv\n",
       "Successfully inserted gs://its-managed-dbx-ds-01-d-user-work-area/ss/ss_outputs/safety_stock_determination_outputs_jabil_hcm_07_02_2024_11_31_12_v1.csv\n",
       "Successfully inserted gs://its-managed-dbx-ds-01-d-user-work-area/ss/ss_outputs/safety_stock_determination_outputs_jabil_hua_07_02_2024_11_17_30_v1.csv\n",
       "Successfully inserted gs://its-managed-dbx-ds-01-d-user-work-area/ss/ss_outputs/safety_stock_determination_outputs_pegatron_07_02_2024_11_32_25_v1.csv\n",
       "Successfully inserted gs://its-managed-dbx-ds-01-d-user-work-area/ss/ss_outputs/safety_stock_determination_outputs_sanhua_07_02_2024_11_34_55_v1.csv\n",
       "Successfully inserted gs://its-managed-dbx-ds-01-d-user-work-area/ss/ss_outputs/safety_stock_determination_outputs_sanmina_07_02_2024_11_23_34_v1.csv\n",
       "Successfully inserted gs://its-managed-dbx-ds-01-d-user-work-area/ss/ss_outputs/safety_stock_determination_outputs_sh2_07_02_2024_10_52_10_v1.csv\n",
       "Successfully inserted gs://its-managed-dbx-ds-01-d-user-work-area/ss/ss_outputs/safety_stock_determination_outputs_t2m_07_02_2024_11_00_38_v1.csv\n",
       "Successfully inserted gs://its-managed-dbx-ds-01-d-user-work-area/ss/ss_outputs/safety_stock_determination_outputs_tianma_07_02_2024_11_35_06_v1.csv\n",
       "Successfully inserted gs://its-managed-dbx-ds-01-d-user-work-area/ss/ss_outputs/safety_stock_determination_outputs_tws_07_02_2024_11_02_03_v1.csv\n",
       "Successfully inserted gs://its-managed-dbx-ds-01-d-user-work-area/ss/ss_outputs/safety_stock_determination_outputs_usi_07_02_2024_10_59_50_v1.csv\n",
       "Successfully inserted gs://its-managed-dbx-ds-01-d-user-work-area/ss/ss_outputs/safety_stock_determination_outputs_usi_tw_07_02_2024_11_26_31_v1.csv\n",
       "Successfully inserted gs://its-managed-dbx-ds-01-d-user-work-area/ss/ss_outputs/safety_stock_determination_outputs_usi_vn_07_02_2024_10_51_47_v1.csv\n",
       "Successfully inserted gs://its-managed-dbx-ds-01-d-user-work-area/ss/ss_outputs/safety_stock_determination_outputs_vtech_my_07_02_2024_11_23_48_v1.csv\n",
       "Successfully inserted gs://its-managed-dbx-ds-01-d-user-work-area/ss/ss_outputs/safety_stock_determination_outputs_wistron_07_02_2024_11_20_58_v1.csv\n",
       "Successfully inserted gs://its-managed-dbx-ds-01-d-user-work-area/ss/ss_outputs/safety_stock_determination_outputs_wistron_my_07_02_2024_11_28_54_v1.csv\n",
       "Successfully inserted all the data!!!\n",
       "</div>"
      ]
     },
     "metadata": {
      "application/vnd.databricks.v1+output": {
       "addedWidgets": {},
       "arguments": {},
       "data": "<div class=\"ansiout\">Successfully inserted gs://its-managed-dbx-ds-01-d-user-work-area/ss/ss_outputs/safety_stock_determination_outputs_aava_07_02_2024_11_18_04_v1.csv\nSuccessfully inserted gs://its-managed-dbx-ds-01-d-user-work-area/ss/ss_outputs/safety_stock_determination_outputs_askey_07_02_2024_11_34_27_v1.csv\nSuccessfully inserted gs://its-managed-dbx-ds-01-d-user-work-area/ss/ss_outputs/safety_stock_determination_outputs_best_ever_07_02_2024_11_01_23_v1.csv\nSuccessfully inserted gs://its-managed-dbx-ds-01-d-user-work-area/ss/ss_outputs/safety_stock_determination_outputs_holitech_07_02_2024_11_01_00_v1.csv\nSuccessfully inserted gs://its-managed-dbx-ds-01-d-user-work-area/ss/ss_outputs/safety_stock_determination_outputs_inventus_07_02_2024_11_34_39_v1.csv\nSuccessfully inserted gs://its-managed-dbx-ds-01-d-user-work-area/ss/ss_outputs/safety_stock_determination_outputs_jabil_hcm_07_02_2024_11_31_12_v1.csv\nSuccessfully inserted gs://its-managed-dbx-ds-01-d-user-work-area/ss/ss_outputs/safety_stock_determination_outputs_jabil_hua_07_02_2024_11_17_30_v1.csv\nSuccessfully inserted gs://its-managed-dbx-ds-01-d-user-work-area/ss/ss_outputs/safety_stock_determination_outputs_pegatron_07_02_2024_11_32_25_v1.csv\nSuccessfully inserted gs://its-managed-dbx-ds-01-d-user-work-area/ss/ss_outputs/safety_stock_determination_outputs_sanhua_07_02_2024_11_34_55_v1.csv\nSuccessfully inserted gs://its-managed-dbx-ds-01-d-user-work-area/ss/ss_outputs/safety_stock_determination_outputs_sanmina_07_02_2024_11_23_34_v1.csv\nSuccessfully inserted gs://its-managed-dbx-ds-01-d-user-work-area/ss/ss_outputs/safety_stock_determination_outputs_sh2_07_02_2024_10_52_10_v1.csv\nSuccessfully inserted gs://its-managed-dbx-ds-01-d-user-work-area/ss/ss_outputs/safety_stock_determination_outputs_t2m_07_02_2024_11_00_38_v1.csv\nSuccessfully inserted gs://its-managed-dbx-ds-01-d-user-work-area/ss/ss_outputs/safety_stock_determination_outputs_tianma_07_02_2024_11_35_06_v1.csv\nSuccessfully inserted gs://its-managed-dbx-ds-01-d-user-work-area/ss/ss_outputs/safety_stock_determination_outputs_tws_07_02_2024_11_02_03_v1.csv\nSuccessfully inserted gs://its-managed-dbx-ds-01-d-user-work-area/ss/ss_outputs/safety_stock_determination_outputs_usi_07_02_2024_10_59_50_v1.csv\nSuccessfully inserted gs://its-managed-dbx-ds-01-d-user-work-area/ss/ss_outputs/safety_stock_determination_outputs_usi_tw_07_02_2024_11_26_31_v1.csv\nSuccessfully inserted gs://its-managed-dbx-ds-01-d-user-work-area/ss/ss_outputs/safety_stock_determination_outputs_usi_vn_07_02_2024_10_51_47_v1.csv\nSuccessfully inserted gs://its-managed-dbx-ds-01-d-user-work-area/ss/ss_outputs/safety_stock_determination_outputs_vtech_my_07_02_2024_11_23_48_v1.csv\nSuccessfully inserted gs://its-managed-dbx-ds-01-d-user-work-area/ss/ss_outputs/safety_stock_determination_outputs_wistron_07_02_2024_11_20_58_v1.csv\nSuccessfully inserted gs://its-managed-dbx-ds-01-d-user-work-area/ss/ss_outputs/safety_stock_determination_outputs_wistron_my_07_02_2024_11_28_54_v1.csv\nSuccessfully inserted all the data!!!\n</div>",
       "datasetInfos": [],
       "metadata": {},
       "removedWidgets": [],
       "type": "html"
      }
     },
     "output_type": "display_data"
    }
   ],
   "source": [
    "df = pd.DataFrame()\n",
    "log_entry_df = pd.DataFrame()\n",
    "for b in blobs_list: #for loop is used to read all file paths \n",
    "    input_path = \"gs://its-managed-dbx-ds-01-d-user-work-area/\"+b.name\n",
    "    input_df = pd.read_csv(input_path)  # Read CSV file\n",
    "\n",
    "    year_value = input_path.split(\"/\",6)[4]\n",
    "    filename_value = ''.join(input_path.split(\"/\")[-1].split(\".csv\")[0])\n",
    "\n",
    "    # Assuming start_date_value is the first column in the CSV file\n",
    "    start_date_value = input_df.iloc[0, 0]\n",
    "\n",
    "    input_df.insert(loc=0, column='start_date', value=start_date_value)\n",
    "    input_df.insert(loc=0, column='filename', value=filename_value)\n",
    "    input_df.insert(loc=0, column='year', value=year_value)\n",
    "\n",
    "    # Assuming no need to drop columns in CSV file\n",
    "    # Assuming shape[0] gives the count of rows in the CSV file\n",
    "    excel_info_df = pd.DataFrame(columns=['year', 'filename', 'count'], index=[0])\n",
    "    excel_info_df['year'] = year_value\n",
    "    excel_info_df['filename'] = filename_value\n",
    "    excel_info_df['count'] = input_df.shape[0]\n",
    "\n",
    "    df = pd.concat([df, input_df], axis=0, ignore_index=True) # Dataframe contains all the data\n",
    "    log_entry_df = pd.concat([log_entry_df, excel_info_df], axis=0, ignore_index=True) # Log entry df contains details related to every file we read\n",
    "    print(\"Successfully inserted \"+input_path)\n",
    "print(\"Successfully inserted all the data!!!\")\n"
   ]
  },
  {
   "cell_type": "code",
   "execution_count": 0,
   "metadata": {
    "application/vnd.databricks.v1+cell": {
     "cellMetadata": {
      "byteLimit": 2048000,
      "rowLimit": 10000
     },
     "inputWidgets": {},
     "nuid": "8dddd258-22ae-4041-8498-dfb2faa0aaf0",
     "showTitle": false,
     "title": ""
    }
   },
   "outputs": [
    {
     "output_type": "display_data",
     "data": {
      "text/html": [
       "<style scoped>\n",
       "  .ansiout {\n",
       "    display: block;\n",
       "    unicode-bidi: embed;\n",
       "    white-space: pre-wrap;\n",
       "    word-wrap: break-word;\n",
       "    word-break: break-all;\n",
       "    font-family: \"Menlo\", \"Monaco\", \"Consolas\", \"Ubuntu Mono\", \"Source Code Pro\", monospace;\n",
       "    font-size: 13px;\n",
       "    color: #555;\n",
       "    margin-left: 4px;\n",
       "    line-height: 19px;\n",
       "  }\n",
       "</style>\n",
       "<div class=\"ansiout\">Out[30]: &#39;gs://its-managed-dbx-ds-01-d-user-work-area/ss/ss_outputs/safety_stock_determination_outputs_wistron_my_07_02_2024_11_28_54_v1.csv&#39;</div>"
      ]
     },
     "metadata": {
      "application/vnd.databricks.v1+output": {
       "addedWidgets": {},
       "arguments": {},
       "data": "<div class=\"ansiout\">Out[30]: &#39;gs://its-managed-dbx-ds-01-d-user-work-area/ss/ss_outputs/safety_stock_determination_outputs_wistron_my_07_02_2024_11_28_54_v1.csv&#39;</div>",
       "datasetInfos": [],
       "metadata": {},
       "removedWidgets": [],
       "type": "html"
      }
     },
     "output_type": "display_data"
    }
   ],
   "source": [
    "input_path "
   ]
  },
  {
   "cell_type": "code",
   "execution_count": 0,
   "metadata": {
    "application/vnd.databricks.v1+cell": {
     "cellMetadata": {
      "byteLimit": 2048000,
      "rowLimit": 10000
     },
     "inputWidgets": {},
     "nuid": "18b7909c-6cc7-4cf0-9904-728a706dfc73",
     "showTitle": false,
     "title": ""
    }
   },
   "outputs": [
    {
     "output_type": "display_data",
     "data": {
      "text/html": [
       "<style scoped>\n",
       "  .ansiout {\n",
       "    display: block;\n",
       "    unicode-bidi: embed;\n",
       "    white-space: pre-wrap;\n",
       "    word-wrap: break-word;\n",
       "    word-break: break-all;\n",
       "    font-family: \"Menlo\", \"Monaco\", \"Consolas\", \"Ubuntu Mono\", \"Source Code Pro\", monospace;\n",
       "    font-size: 13px;\n",
       "    color: #555;\n",
       "    margin-left: 4px;\n",
       "    line-height: 19px;\n",
       "  }\n",
       "</style>\n",
       "<div class=\"ansiout\">Out[31]: </div>"
      ]
     },
     "metadata": {
      "application/vnd.databricks.v1+output": {
       "addedWidgets": {},
       "arguments": {},
       "data": "<div class=\"ansiout\">Out[31]: </div>",
       "datasetInfos": [],
       "metadata": {},
       "removedWidgets": [],
       "type": "html"
      }
     },
     "output_type": "display_data"
    },
    {
     "output_type": "display_data",
     "data": {
      "text/html": [
       "<div>\n",
       "<style scoped>\n",
       "    .dataframe tbody tr th:only-of-type {\n",
       "        vertical-align: middle;\n",
       "    }\n",
       "\n",
       "    .dataframe tbody tr th {\n",
       "        vertical-align: top;\n",
       "    }\n",
       "\n",
       "    .dataframe thead th {\n",
       "        text-align: right;\n",
       "    }\n",
       "</style>\n",
       "<table border=\"1\" class=\"dataframe\">\n",
       "  <thead>\n",
       "    <tr style=\"text-align: right;\">\n",
       "      <th></th>\n",
       "      <th>year</th>\n",
       "      <th>filename</th>\n",
       "      <th>count</th>\n",
       "    </tr>\n",
       "  </thead>\n",
       "  <tbody>\n",
       "    <tr>\n",
       "      <th>0</th>\n",
       "      <td>ss_outputs</td>\n",
       "      <td>safety_stock_determination_outputs_aava_07_02_...</td>\n",
       "      <td>102</td>\n",
       "    </tr>\n",
       "    <tr>\n",
       "      <th>1</th>\n",
       "      <td>ss_outputs</td>\n",
       "      <td>safety_stock_determination_outputs_askey_07_02...</td>\n",
       "      <td>2789</td>\n",
       "    </tr>\n",
       "  </tbody>\n",
       "</table>\n",
       "</div>"
      ]
     },
     "metadata": {
      "application/vnd.databricks.v1+output": {
       "addedWidgets": {},
       "arguments": {},
       "data": "<div>\n<style scoped>\n    .dataframe tbody tr th:only-of-type {\n        vertical-align: middle;\n    }\n\n    .dataframe tbody tr th {\n        vertical-align: top;\n    }\n\n    .dataframe thead th {\n        text-align: right;\n    }\n</style>\n<table border=\"1\" class=\"dataframe\">\n  <thead>\n    <tr style=\"text-align: right;\">\n      <th></th>\n      <th>year</th>\n      <th>filename</th>\n      <th>count</th>\n    </tr>\n  </thead>\n  <tbody>\n    <tr>\n      <th>0</th>\n      <td>ss_outputs</td>\n      <td>safety_stock_determination_outputs_aava_07_02_...</td>\n      <td>102</td>\n    </tr>\n    <tr>\n      <th>1</th>\n      <td>ss_outputs</td>\n      <td>safety_stock_determination_outputs_askey_07_02...</td>\n      <td>2789</td>\n    </tr>\n  </tbody>\n</table>\n</div>",
       "datasetInfos": [],
       "metadata": {},
       "removedWidgets": [],
       "textData": null,
       "type": "htmlSandbox"
      }
     },
     "output_type": "display_data"
    }
   ],
   "source": [
    "log_entry_df.head(2)"
   ]
  },
  {
   "cell_type": "code",
   "execution_count": 0,
   "metadata": {
    "application/vnd.databricks.v1+cell": {
     "cellMetadata": {
      "byteLimit": 2048000,
      "rowLimit": 10000
     },
     "inputWidgets": {},
     "nuid": "daecec74-8947-466e-8792-99ee6210b1b4",
     "showTitle": false,
     "title": ""
    }
   },
   "outputs": [
    {
     "output_type": "display_data",
     "data": {
      "text/html": [
       "<style scoped>\n",
       "  .ansiout {\n",
       "    display: block;\n",
       "    unicode-bidi: embed;\n",
       "    white-space: pre-wrap;\n",
       "    word-wrap: break-word;\n",
       "    word-break: break-all;\n",
       "    font-family: \"Menlo\", \"Monaco\", \"Consolas\", \"Ubuntu Mono\", \"Source Code Pro\", monospace;\n",
       "    font-size: 13px;\n",
       "    color: #555;\n",
       "    margin-left: 4px;\n",
       "    line-height: 19px;\n",
       "  }\n",
       "</style>\n",
       "<div class=\"ansiout\">Out[32]: </div>"
      ]
     },
     "metadata": {
      "application/vnd.databricks.v1+output": {
       "addedWidgets": {},
       "arguments": {},
       "data": "<div class=\"ansiout\">Out[32]: </div>",
       "datasetInfos": [],
       "metadata": {},
       "removedWidgets": [],
       "type": "html"
      }
     },
     "output_type": "display_data"
    },
    {
     "output_type": "display_data",
     "data": {
      "text/html": [
       "<div>\n",
       "<style scoped>\n",
       "    .dataframe tbody tr th:only-of-type {\n",
       "        vertical-align: middle;\n",
       "    }\n",
       "\n",
       "    .dataframe tbody tr th {\n",
       "        vertical-align: top;\n",
       "    }\n",
       "\n",
       "    .dataframe thead th {\n",
       "        text-align: right;\n",
       "    }\n",
       "</style>\n",
       "<table border=\"1\" class=\"dataframe\">\n",
       "  <thead>\n",
       "    <tr style=\"text-align: right;\">\n",
       "      <th></th>\n",
       "      <th>year</th>\n",
       "      <th>filename</th>\n",
       "      <th>start_date</th>\n",
       "      <th>Unnamed: 0</th>\n",
       "      <th>site_name</th>\n",
       "      <th>component</th>\n",
       "      <th>category</th>\n",
       "      <th>lead_time_std</th>\n",
       "      <th>lead_time_avg</th>\n",
       "      <th>raw_cost</th>\n",
       "      <th>average_demand</th>\n",
       "      <th>demand_std</th>\n",
       "      <th>calculated_safety_stock</th>\n",
       "      <th>adjusted_safety_stock</th>\n",
       "      <th>ss_weeks</th>\n",
       "      <th>ss_ll</th>\n",
       "      <th>ss_ul</th>\n",
       "      <th>ss_ll($)</th>\n",
       "      <th>ss_ul($)</th>\n",
       "      <th>ss_value($)</th>\n",
       "      <th>extra_safety_stock</th>\n",
       "      <th>total_ss</th>\n",
       "      <th>total_ss ($)</th>\n",
       "      <th>zscore_cal</th>\n",
       "      <th>sl_percentage</th>\n",
       "      <th>wt_sl_avg</th>\n",
       "    </tr>\n",
       "  </thead>\n",
       "  <tbody>\n",
       "    <tr>\n",
       "      <th>0</th>\n",
       "      <td>ss_outputs</td>\n",
       "      <td>safety_stock_determination_outputs_aava_07_02_...</td>\n",
       "      <td>0</td>\n",
       "      <td>0</td>\n",
       "      <td>Aava</td>\n",
       "      <td>ACSF0801AB06-1</td>\n",
       "      <td>A</td>\n",
       "      <td>0.0</td>\n",
       "      <td>103.0</td>\n",
       "      <td>195.000</td>\n",
       "      <td>56</td>\n",
       "      <td>0</td>\n",
       "      <td>1</td>\n",
       "      <td>112</td>\n",
       "      <td>0</td>\n",
       "      <td>2</td>\n",
       "      <td>4</td>\n",
       "      <td>0</td>\n",
       "      <td>30000</td>\n",
       "      <td>21964.80</td>\n",
       "      <td>111</td>\n",
       "      <td>112</td>\n",
       "      <td>21840.000</td>\n",
       "      <td>0.0</td>\n",
       "      <td>50.0</td>\n",
       "      <td>86.62</td>\n",
       "    </tr>\n",
       "    <tr>\n",
       "      <th>1</th>\n",
       "      <td>ss_outputs</td>\n",
       "      <td>safety_stock_determination_outputs_aava_07_02_...</td>\n",
       "      <td>0</td>\n",
       "      <td>266</td>\n",
       "      <td>Aava</td>\n",
       "      <td>AM10000335-3</td>\n",
       "      <td>C</td>\n",
       "      <td>0.0</td>\n",
       "      <td>63.0</td>\n",
       "      <td>0.511</td>\n",
       "      <td>46</td>\n",
       "      <td>5</td>\n",
       "      <td>10</td>\n",
       "      <td>184</td>\n",
       "      <td>0</td>\n",
       "      <td>4</td>\n",
       "      <td>12</td>\n",
       "      <td>0</td>\n",
       "      <td>500</td>\n",
       "      <td>94.02</td>\n",
       "      <td>174</td>\n",
       "      <td>184</td>\n",
       "      <td>94.024</td>\n",
       "      <td>36.8</td>\n",
       "      <td>100.0</td>\n",
       "      <td>86.62</td>\n",
       "    </tr>\n",
       "  </tbody>\n",
       "</table>\n",
       "</div>"
      ]
     },
     "metadata": {
      "application/vnd.databricks.v1+output": {
       "addedWidgets": {},
       "arguments": {},
       "data": "<div>\n<style scoped>\n    .dataframe tbody tr th:only-of-type {\n        vertical-align: middle;\n    }\n\n    .dataframe tbody tr th {\n        vertical-align: top;\n    }\n\n    .dataframe thead th {\n        text-align: right;\n    }\n</style>\n<table border=\"1\" class=\"dataframe\">\n  <thead>\n    <tr style=\"text-align: right;\">\n      <th></th>\n      <th>year</th>\n      <th>filename</th>\n      <th>start_date</th>\n      <th>Unnamed: 0</th>\n      <th>site_name</th>\n      <th>component</th>\n      <th>category</th>\n      <th>lead_time_std</th>\n      <th>lead_time_avg</th>\n      <th>raw_cost</th>\n      <th>average_demand</th>\n      <th>demand_std</th>\n      <th>calculated_safety_stock</th>\n      <th>adjusted_safety_stock</th>\n      <th>ss_weeks</th>\n      <th>ss_ll</th>\n      <th>ss_ul</th>\n      <th>ss_ll($)</th>\n      <th>ss_ul($)</th>\n      <th>ss_value($)</th>\n      <th>extra_safety_stock</th>\n      <th>total_ss</th>\n      <th>total_ss ($)</th>\n      <th>zscore_cal</th>\n      <th>sl_percentage</th>\n      <th>wt_sl_avg</th>\n    </tr>\n  </thead>\n  <tbody>\n    <tr>\n      <th>0</th>\n      <td>ss_outputs</td>\n      <td>safety_stock_determination_outputs_aava_07_02_...</td>\n      <td>0</td>\n      <td>0</td>\n      <td>Aava</td>\n      <td>ACSF0801AB06-1</td>\n      <td>A</td>\n      <td>0.0</td>\n      <td>103.0</td>\n      <td>195.000</td>\n      <td>56</td>\n      <td>0</td>\n      <td>1</td>\n      <td>112</td>\n      <td>0</td>\n      <td>2</td>\n      <td>4</td>\n      <td>0</td>\n      <td>30000</td>\n      <td>21964.80</td>\n      <td>111</td>\n      <td>112</td>\n      <td>21840.000</td>\n      <td>0.0</td>\n      <td>50.0</td>\n      <td>86.62</td>\n    </tr>\n    <tr>\n      <th>1</th>\n      <td>ss_outputs</td>\n      <td>safety_stock_determination_outputs_aava_07_02_...</td>\n      <td>0</td>\n      <td>266</td>\n      <td>Aava</td>\n      <td>AM10000335-3</td>\n      <td>C</td>\n      <td>0.0</td>\n      <td>63.0</td>\n      <td>0.511</td>\n      <td>46</td>\n      <td>5</td>\n      <td>10</td>\n      <td>184</td>\n      <td>0</td>\n      <td>4</td>\n      <td>12</td>\n      <td>0</td>\n      <td>500</td>\n      <td>94.02</td>\n      <td>174</td>\n      <td>184</td>\n      <td>94.024</td>\n      <td>36.8</td>\n      <td>100.0</td>\n      <td>86.62</td>\n    </tr>\n  </tbody>\n</table>\n</div>",
       "datasetInfos": [],
       "metadata": {},
       "removedWidgets": [],
       "textData": null,
       "type": "htmlSandbox"
      }
     },
     "output_type": "display_data"
    }
   ],
   "source": [
    "df.head(2)"
   ]
  },
  {
   "cell_type": "code",
   "execution_count": 0,
   "metadata": {
    "application/vnd.databricks.v1+cell": {
     "cellMetadata": {
      "byteLimit": 2048000,
      "rowLimit": 10000
     },
     "inputWidgets": {},
     "nuid": "d6fd82d9-8cb5-4e29-87be-66b21e17446e",
     "showTitle": false,
     "title": ""
    }
   },
   "outputs": [
    {
     "output_type": "display_data",
     "data": {
      "text/html": [
       "<style scoped>\n",
       "  .ansiout {\n",
       "    display: block;\n",
       "    unicode-bidi: embed;\n",
       "    white-space: pre-wrap;\n",
       "    word-wrap: break-word;\n",
       "    word-break: break-all;\n",
       "    font-family: \"Menlo\", \"Monaco\", \"Consolas\", \"Ubuntu Mono\", \"Source Code Pro\", monospace;\n",
       "    font-size: 13px;\n",
       "    color: #555;\n",
       "    margin-left: 4px;\n",
       "    line-height: 19px;\n",
       "  }\n",
       "</style>\n",
       "<div class=\"ansiout\">Out[33]: (46742, 26)</div>"
      ]
     },
     "metadata": {
      "application/vnd.databricks.v1+output": {
       "addedWidgets": {},
       "arguments": {},
       "data": "<div class=\"ansiout\">Out[33]: (46742, 26)</div>",
       "datasetInfos": [],
       "metadata": {},
       "removedWidgets": [],
       "type": "html"
      }
     },
     "output_type": "display_data"
    }
   ],
   "source": [
    "df.shape"
   ]
  },
  {
   "cell_type": "markdown",
   "metadata": {
    "application/vnd.databricks.v1+cell": {
     "cellMetadata": {
      "byteLimit": 2048000,
      "rowLimit": 10000
     },
     "inputWidgets": {},
     "nuid": "a38005ea-fe64-403a-a6c7-628cdf8d941e",
     "showTitle": false,
     "title": ""
    }
   },
   "source": [
    "Changing datatype of all columns to string so that we can handel unexpected values in later stage"
   ]
  },
  {
   "cell_type": "code",
   "execution_count": 0,
   "metadata": {
    "application/vnd.databricks.v1+cell": {
     "cellMetadata": {
      "byteLimit": 2048000,
      "rowLimit": 10000
     },
     "inputWidgets": {},
     "nuid": "ab6f9814-d51b-4ffc-b3ad-d7acdf3feff8",
     "showTitle": false,
     "title": ""
    }
   },
   "outputs": [
    {
     "output_type": "display_data",
     "data": {
      "text/html": [
       "<style scoped>\n",
       "  .ansiout {\n",
       "    display: block;\n",
       "    unicode-bidi: embed;\n",
       "    white-space: pre-wrap;\n",
       "    word-wrap: break-word;\n",
       "    word-break: break-all;\n",
       "    font-family: \"Menlo\", \"Monaco\", \"Consolas\", \"Ubuntu Mono\", \"Source Code Pro\", monospace;\n",
       "    font-size: 13px;\n",
       "    color: #555;\n",
       "    margin-left: 4px;\n",
       "    line-height: 19px;\n",
       "  }\n",
       "</style>\n",
       "<div class=\"ansiout\">object\n",
       "object\n",
       "object\n",
       "object\n",
       "object\n",
       "object\n",
       "object\n",
       "object\n",
       "object\n",
       "object\n",
       "object\n",
       "object\n",
       "object\n",
       "object\n",
       "object\n",
       "object\n",
       "object\n",
       "object\n",
       "object\n",
       "object\n",
       "object\n",
       "object\n",
       "object\n",
       "object\n",
       "object\n",
       "object\n",
       "</div>"
      ]
     },
     "metadata": {
      "application/vnd.databricks.v1+output": {
       "addedWidgets": {},
       "arguments": {},
       "data": "<div class=\"ansiout\">object\nobject\nobject\nobject\nobject\nobject\nobject\nobject\nobject\nobject\nobject\nobject\nobject\nobject\nobject\nobject\nobject\nobject\nobject\nobject\nobject\nobject\nobject\nobject\nobject\nobject\n</div>",
       "datasetInfos": [],
       "metadata": {},
       "removedWidgets": [],
       "type": "html"
      }
     },
     "output_type": "display_data"
    }
   ],
   "source": [
    "for col in df.columns:\n",
    "        df[col] = df[col].astype(str) #changing all cols to object type\n",
    "        print(df[col].dtypes)"
   ]
  },
  {
   "cell_type": "markdown",
   "metadata": {
    "application/vnd.databricks.v1+cell": {
     "cellMetadata": {
      "byteLimit": 2048000,
      "rowLimit": 10000
     },
     "inputWidgets": {},
     "nuid": "ff92489e-aa7d-4dd5-8e20-1334009847c5",
     "showTitle": false,
     "title": ""
    }
   },
   "source": [
    "Renaming columns to follow standard column format"
   ]
  },
  {
   "cell_type": "code",
   "execution_count": 0,
   "metadata": {
    "application/vnd.databricks.v1+cell": {
     "cellMetadata": {
      "byteLimit": 2048000,
      "rowLimit": 10000
     },
     "inputWidgets": {},
     "nuid": "24a01dd7-e7fb-4647-a652-44df4add89c2",
     "showTitle": false,
     "title": ""
    }
   },
   "outputs": [
    {
     "output_type": "display_data",
     "data": {
      "text/html": [
       "<style scoped>\n",
       "  .ansiout {\n",
       "    display: block;\n",
       "    unicode-bidi: embed;\n",
       "    white-space: pre-wrap;\n",
       "    word-wrap: break-word;\n",
       "    word-break: break-all;\n",
       "    font-family: \"Menlo\", \"Monaco\", \"Consolas\", \"Ubuntu Mono\", \"Source Code Pro\", monospace;\n",
       "    font-size: 13px;\n",
       "    color: #555;\n",
       "    margin-left: 4px;\n",
       "    line-height: 19px;\n",
       "  }\n",
       "</style>\n",
       "<div class=\"ansiout\">year:year\n",
       "filename:filename\n",
       "start_date:start_date\n",
       "Unnamed: 0:unnamed:_0\n",
       "site_name:site_name\n",
       "component:component\n",
       "category:category\n",
       "lead_time_std:lead_time_std\n",
       "lead_time_avg:lead_time_avg\n",
       "raw_cost:raw_cost\n",
       "average_demand:average_demand\n",
       "demand_std:demand_std\n",
       "calculated_safety_stock:calculated_safety_stock\n",
       "adjusted_safety_stock:adjusted_safety_stock\n",
       "ss_weeks:ss_weeks\n",
       "ss_ll:ss_ll\n",
       "ss_ul:ss_ul\n",
       "ss_ll($):ss_ll$\n",
       "ss_ul($):ss_ul$\n",
       "ss_value($):ss_value$\n",
       "extra_safety_stock:extra_safety_stock\n",
       "total_ss:total_ss\n",
       "total_ss ($):total_ss_$\n",
       "zscore_cal:zscore_cal\n",
       "sl_percentage:sl_percentage\n",
       "wt_sl_avg:wt_sl_avg\n",
       "</div>"
      ]
     },
     "metadata": {
      "application/vnd.databricks.v1+output": {
       "addedWidgets": {},
       "arguments": {},
       "data": "<div class=\"ansiout\">year:year\nfilename:filename\nstart_date:start_date\nUnnamed: 0:unnamed:_0\nsite_name:site_name\ncomponent:component\ncategory:category\nlead_time_std:lead_time_std\nlead_time_avg:lead_time_avg\nraw_cost:raw_cost\naverage_demand:average_demand\ndemand_std:demand_std\ncalculated_safety_stock:calculated_safety_stock\nadjusted_safety_stock:adjusted_safety_stock\nss_weeks:ss_weeks\nss_ll:ss_ll\nss_ul:ss_ul\nss_ll($):ss_ll$\nss_ul($):ss_ul$\nss_value($):ss_value$\nextra_safety_stock:extra_safety_stock\ntotal_ss:total_ss\ntotal_ss ($):total_ss_$\nzscore_cal:zscore_cal\nsl_percentage:sl_percentage\nwt_sl_avg:wt_sl_avg\n</div>",
       "datasetInfos": [],
       "metadata": {},
       "removedWidgets": [],
       "type": "html"
      }
     },
     "output_type": "display_data"
    }
   ],
   "source": [
    "for col in df.columns:\n",
    "    if isinstance(col, int): \n",
    "        old_name = str(col)\n",
    "        new_name = new_name.lower()\n",
    "        print(old_name+\":\"+new_name)\n",
    "        consolidated_df.rename(columns = {col:new_name},inplace = True)\n",
    "        continue\n",
    "    old_name = str(col)\n",
    "    new_name = old_name.replace(\" \", \"_\").replace(\"(\",\"\").replace(\")\",\"\").replace(\"#\",\"num\").replace(\"-\",\"_to_\").replace(\"/\",\"_or_\")\n",
    "    new_name = new_name.lower()\n",
    "    print(old_name+\":\"+new_name) \n",
    "    df.rename(columns = {old_name:new_name},inplace = True) #renaming columns by removing unexpected string"
   ]
  },
  {
   "cell_type": "code",
   "execution_count": 0,
   "metadata": {
    "application/vnd.databricks.v1+cell": {
     "cellMetadata": {
      "byteLimit": 2048000,
      "rowLimit": 10000
     },
     "inputWidgets": {},
     "nuid": "46deb87f-dd61-48d7-a22f-d8db7a0b2ae1",
     "showTitle": false,
     "title": ""
    }
   },
   "outputs": [
    {
     "output_type": "display_data",
     "data": {
      "text/html": [
       "<style scoped>\n",
       "  .ansiout {\n",
       "    display: block;\n",
       "    unicode-bidi: embed;\n",
       "    white-space: pre-wrap;\n",
       "    word-wrap: break-word;\n",
       "    word-break: break-all;\n",
       "    font-family: \"Menlo\", \"Monaco\", \"Consolas\", \"Ubuntu Mono\", \"Source Code Pro\", monospace;\n",
       "    font-size: 13px;\n",
       "    color: #555;\n",
       "    margin-left: 4px;\n",
       "    line-height: 19px;\n",
       "  }\n",
       "</style>\n",
       "<div class=\"ansiout\"></div>"
      ]
     },
     "metadata": {
      "application/vnd.databricks.v1+output": {
       "addedWidgets": {},
       "arguments": {},
       "data": "<div class=\"ansiout\"></div>",
       "datasetInfos": [],
       "metadata": {},
       "removedWidgets": [],
       "type": "html"
      }
     },
     "output_type": "display_data"
    }
   ],
   "source": [
    "cols_in_schema = [\n",
    "'year',\n",
    "\n",
    "'filename',\n",
    "\n",
    "'start_date',\n",
    "\n",
    "'site_name', \n",
    "\n",
    "'component', \n",
    "\n",
    "'category', \n",
    "\n",
    "'lead_time_std', \n",
    "\n",
    "'lead_time_avg', \n",
    "\n",
    "'raw_cost', \n",
    "\n",
    "'average_demand', \n",
    "\n",
    "'demand_std', \n",
    "\n",
    "'calculated_safety_stock', \n",
    "\n",
    "'adjusted_safety_stock',  \n",
    "\n",
    "'ss_weeks', \n",
    "\n",
    "'ss_ll', \n",
    "\n",
    "'ss_ul', \n",
    "\n",
    "'ss_ll$', \n",
    "\n",
    "'ss_ul$', \n",
    "\n",
    "'ss_value$', \n",
    "\n",
    "'extra_safety_stock', \n",
    "\n",
    "'total_ss', \n",
    "\n",
    "'total_ss_$', \n",
    "\n",
    "'zscore_cal', \n",
    "\n",
    "'sl_percentage', \n",
    "\n",
    "'wt_sl_avg']\n",
    "df = df[cols_in_schema]"
   ]
  },
  {
   "cell_type": "markdown",
   "metadata": {
    "application/vnd.databricks.v1+cell": {
     "cellMetadata": {
      "byteLimit": 2048000,
      "rowLimit": 10000
     },
     "inputWidgets": {},
     "nuid": "5c9be161-5b42-4e5a-a54c-58b597cbe94b",
     "showTitle": false,
     "title": ""
    }
   },
   "source": [
    "Converting pandas df to spark df and then append into stage table"
   ]
  },
  {
   "cell_type": "code",
   "execution_count": 0,
   "metadata": {
    "application/vnd.databricks.v1+cell": {
     "cellMetadata": {
      "byteLimit": 2048000,
      "rowLimit": 10000
     },
     "inputWidgets": {},
     "nuid": "4c4800e8-e5bb-4d8e-b7f9-6330be928d8a",
     "showTitle": false,
     "title": ""
    }
   },
   "outputs": [
    {
     "output_type": "display_data",
     "data": {
      "text/html": [
       "<style scoped>\n",
       "  .ansiout {\n",
       "    display: block;\n",
       "    unicode-bidi: embed;\n",
       "    white-space: pre-wrap;\n",
       "    word-wrap: break-word;\n",
       "    word-break: break-all;\n",
       "    font-family: \"Menlo\", \"Monaco\", \"Consolas\", \"Ubuntu Mono\", \"Source Code Pro\", monospace;\n",
       "    font-size: 13px;\n",
       "    color: #555;\n",
       "    margin-left: 4px;\n",
       "    line-height: 19px;\n",
       "  }\n",
       "</style>\n",
       "<div class=\"ansiout\"></div>"
      ]
     },
     "metadata": {
      "application/vnd.databricks.v1+output": {
       "addedWidgets": {},
       "arguments": {},
       "data": "<div class=\"ansiout\"></div>",
       "datasetInfos": [],
       "metadata": {},
       "removedWidgets": [],
       "type": "html"
      }
     },
     "output_type": "display_data"
    }
   ],
   "source": [
    "spark_df = spark.createDataFrame(df) #converting df to spark df"
   ]
  },
  {
   "cell_type": "code",
   "execution_count": 0,
   "metadata": {
    "application/vnd.databricks.v1+cell": {
     "cellMetadata": {
      "byteLimit": 2048000,
      "rowLimit": 10000
     },
     "inputWidgets": {},
     "nuid": "50e9ea1a-78bb-4baa-bad9-9f4e4e66994a",
     "showTitle": false,
     "title": ""
    }
   },
   "outputs": [
    {
     "output_type": "display_data",
     "data": {
      "text/html": [
       "<style scoped>\n",
       "  .ansiout {\n",
       "    display: block;\n",
       "    unicode-bidi: embed;\n",
       "    white-space: pre-wrap;\n",
       "    word-wrap: break-word;\n",
       "    word-break: break-all;\n",
       "    font-family: \"Menlo\", \"Monaco\", \"Consolas\", \"Ubuntu Mono\", \"Source Code Pro\", monospace;\n",
       "    font-size: 13px;\n",
       "    color: #555;\n",
       "    margin-left: 4px;\n",
       "    line-height: 19px;\n",
       "  }\n",
       "</style>\n",
       "<div class=\"ansiout\"></div>"
      ]
     },
     "metadata": {
      "application/vnd.databricks.v1+output": {
       "addedWidgets": {},
       "arguments": {},
       "data": "<div class=\"ansiout\"></div>",
       "datasetInfos": [],
       "metadata": {},
       "removedWidgets": [],
       "type": "html"
      }
     },
     "output_type": "display_data"
    }
   ],
   "source": [
    "spark_df.write.mode(\"append\").format(\"delta\").saveAsTable(\"pbi_tables_vw.ss_output_table\")"
   ]
  },
  {
   "cell_type": "markdown",
   "metadata": {
    "application/vnd.databricks.v1+cell": {
     "cellMetadata": {
      "byteLimit": 2048000,
      "rowLimit": 10000
     },
     "inputWidgets": {},
     "nuid": "a2d8cf48-b87e-4c60-a06f-3b0fee4c1f74",
     "showTitle": false,
     "title": ""
    }
   },
   "source": [
    "Converting pandas df to spark df and then append into log table"
   ]
  },
  {
   "cell_type": "code",
   "execution_count": 0,
   "metadata": {
    "application/vnd.databricks.v1+cell": {
     "cellMetadata": {
      "byteLimit": 2048000,
      "rowLimit": 10000
     },
     "inputWidgets": {},
     "nuid": "4728a0be-de9c-4fa4-a25c-68180d60d5b4",
     "showTitle": false,
     "title": ""
    }
   },
   "outputs": [
    {
     "output_type": "display_data",
     "data": {
      "text/html": [
       "<style scoped>\n",
       "  .ansiout {\n",
       "    display: block;\n",
       "    unicode-bidi: embed;\n",
       "    white-space: pre-wrap;\n",
       "    word-wrap: break-word;\n",
       "    word-break: break-all;\n",
       "    font-family: \"Menlo\", \"Monaco\", \"Consolas\", \"Ubuntu Mono\", \"Source Code Pro\", monospace;\n",
       "    font-size: 13px;\n",
       "    color: #555;\n",
       "    margin-left: 4px;\n",
       "    line-height: 19px;\n",
       "  }\n",
       "</style>\n",
       "<div class=\"ansiout\"></div>"
      ]
     },
     "metadata": {
      "application/vnd.databricks.v1+output": {
       "addedWidgets": {},
       "arguments": {},
       "data": "<div class=\"ansiout\"></div>",
       "datasetInfos": [],
       "metadata": {},
       "removedWidgets": [],
       "type": "html"
      }
     },
     "output_type": "display_data"
    }
   ],
   "source": [
    "log_entry_spark_df = spark.createDataFrame(log_entry_df)"
   ]
  },
  {
   "cell_type": "code",
   "execution_count": 0,
   "metadata": {
    "application/vnd.databricks.v1+cell": {
     "cellMetadata": {
      "byteLimit": 2048000,
      "rowLimit": 10000
     },
     "inputWidgets": {},
     "nuid": "51ebc0ab-46fa-4d6d-bac4-97ea13cba94a",
     "showTitle": false,
     "title": ""
    }
   },
   "outputs": [
    {
     "output_type": "display_data",
     "data": {
      "text/html": [
       "<style scoped>\n",
       "  .ansiout {\n",
       "    display: block;\n",
       "    unicode-bidi: embed;\n",
       "    white-space: pre-wrap;\n",
       "    word-wrap: break-word;\n",
       "    word-break: break-all;\n",
       "    font-family: \"Menlo\", \"Monaco\", \"Consolas\", \"Ubuntu Mono\", \"Source Code Pro\", monospace;\n",
       "    font-size: 13px;\n",
       "    color: #555;\n",
       "    margin-left: 4px;\n",
       "    line-height: 19px;\n",
       "  }\n",
       "</style>\n",
       "<div class=\"ansiout\"></div>"
      ]
     },
     "metadata": {
      "application/vnd.databricks.v1+output": {
       "addedWidgets": {},
       "arguments": {},
       "data": "<div class=\"ansiout\"></div>",
       "datasetInfos": [],
       "metadata": {},
       "removedWidgets": [],
       "type": "html"
      }
     },
     "output_type": "display_data"
    }
   ],
   "source": [
    "log_entry_spark_df.write.mode(\"append\").format(\"delta\").saveAsTable(\"pbi_tables_vw.log_entry_ss_output\") #appending data into log table"
   ]
  },
  {
   "cell_type": "code",
   "execution_count": 0,
   "metadata": {
    "application/vnd.databricks.v1+cell": {
     "cellMetadata": {
      "byteLimit": 2048000,
      "rowLimit": 10000
     },
     "inputWidgets": {},
     "nuid": "87864a3b-3aaf-4b01-a0cb-c294f894f361",
     "showTitle": false,
     "title": ""
    }
   },
   "outputs": [],
   "source": []
  },
  {
   "cell_type": "code",
   "execution_count": 0,
   "metadata": {
    "application/vnd.databricks.v1+cell": {
     "cellMetadata": {
      "byteLimit": 2048000,
      "rowLimit": 10000
     },
     "inputWidgets": {},
     "nuid": "53f235bd-9a16-48ec-bb8c-009cf4dd2eda",
     "showTitle": false,
     "title": ""
    }
   },
   "outputs": [],
   "source": []
  }
 ],
 "metadata": {
  "application/vnd.databricks.v1+notebook": {
   "dashboards": [],
   "language": "python",
   "notebookMetadata": {
    "pythonIndentUnit": 4
   },
   "notebookName": "ss-python",
   "widgets": {}
  }
 },
 "nbformat": 4,
 "nbformat_minor": 0
}
